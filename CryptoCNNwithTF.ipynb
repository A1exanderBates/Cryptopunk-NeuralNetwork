{
  "nbformat": 4,
  "nbformat_minor": 0,
  "metadata": {
    "colab": {
      "name": "CryptoCNNwithTF.ipynb",
      "provenance": [],
      "collapsed_sections": [],
      "authorship_tag": "ABX9TyOAc8k+c6DYPCzRahYWrGMH",
      "include_colab_link": true
    },
    "kernelspec": {
      "name": "python3",
      "display_name": "Python 3"
    },
    "language_info": {
      "name": "python"
    }
  },
  "cells": [
    {
      "cell_type": "markdown",
      "metadata": {
        "id": "view-in-github",
        "colab_type": "text"
      },
      "source": [
        "<a href=\"https://colab.research.google.com/github/A1exanderBates/CryptopunkMachineLearningTF/blob/main/CryptoCNNwithTF.ipynb\" target=\"_parent\"><img src=\"https://colab.research.google.com/assets/colab-badge.svg\" alt=\"Open In Colab\"/></a>"
      ]
    },
    {
      "cell_type": "markdown",
      "metadata": {
        "id": "RnqvjspIPbr_"
      },
      "source": [
        "# Cryptopunk Convolutional Neural Network with Tensorflow"
      ]
    },
    {
      "cell_type": "markdown",
      "metadata": {
        "id": "NwWJVELRsVG4"
      },
      "source": [
        "You might have heard of the recent NFT (non-fungible token) craze. Cryptopunks are example NFT assets that one can buy. As of this writing, the cheapest Cryptopunk is worth over $40,000 dollars. The punks each have attributes, like a mustache or hairstyle. I will be training a conv net to classify punks by attributes. First I will download all of the cryptopunks, which are in a giant single image file. Then I will separate them into the individual punks. Next I  will download a database of attributes. You will then build a tensorflow model to predict the attributes given the images."
      ]
    },
    {
      "cell_type": "code",
      "metadata": {
        "id": "fHmujI8IsX21"
      },
      "source": [
        "import urllib.request\n",
        "import PIL\n",
        "import matplotlib.pyplot as plt\n",
        "import numpy as np\n",
        "import pandas as pd"
      ],
      "execution_count": null,
      "outputs": []
    },
    {
      "cell_type": "markdown",
      "metadata": {
        "id": "I2xEhYVVsfkM"
      },
      "source": [
        "Import the image of all of the cryptopunks."
      ]
    },
    {
      "cell_type": "code",
      "metadata": {
        "id": "yVqESoXPr8og"
      },
      "source": [
        "imgURL = \"https://raw.githubusercontent.com/larvalabs/cryptopunks/master/punks.png\"\n",
        "urllib.request.urlretrieve(imgURL, \"cryptoPunksAll.jpg\")\n",
        "\n",
        "img = PIL.Image.open(\"cryptoPunksAll.jpg\").convert(\"RGB\")\n",
        "img"
      ],
      "execution_count": null,
      "outputs": []
    },
    {
      "cell_type": "markdown",
      "metadata": {
        "id": "991_KKYSsupy"
      },
      "source": [
        "It looks like there's 100x100=10,000 crypto punks each one being a 24x24 (x3 color channels) image."
      ]
    },
    {
      "cell_type": "code",
      "metadata": {
        "id": "zSwqcUUEsxj9"
      },
      "source": [
        "img.size"
      ],
      "execution_count": null,
      "outputs": []
    },
    {
      "cell_type": "markdown",
      "metadata": {
        "id": "KgmSMO_CszKU"
      },
      "source": [
        "Convert to a numpy array and visualize some. Here's punk 0."
      ]
    },
    {
      "cell_type": "code",
      "metadata": {
        "id": "nIyYjksEsoxJ"
      },
      "source": [
        "imgArray = np.asarray(img)\n",
        "plt.imshow(imgArray[0 : 23, 0 : 23, ])\n",
        "plt.xticks([])\n",
        "plt.yticks([])"
      ],
      "execution_count": null,
      "outputs": []
    },
    {
      "cell_type": "code",
      "metadata": {
        "id": "emaFlJRos4Nz"
      },
      "source": [
        "#Plot out the first 25 punks\n",
        "plt.figure(figsize=(10,10))\n",
        "for i in range(25): \n",
        "  plt.subplot(5,5,i+1)\n",
        "  plt.xticks([])\n",
        "  plt.yticks([])\n",
        "  a, b = (24 * i), (24 * (i + 1))\n",
        "  plt.imshow(imgArray[0 : 23, a : b, :])"
      ],
      "execution_count": null,
      "outputs": []
    },
    {
      "cell_type": "code",
      "metadata": {
        "id": "ZYDA2NLSs9KZ"
      },
      "source": [
        "# Reordering the array\n",
        "finalArray = np.empty((24,24, 3, 10000))\n",
        "for i in range(100):\n",
        "  for j in range(100):\n",
        "    a, b = 24 * i, 24 * (i + 1)  \n",
        "    c, d = 24 * j, 24 * (j + 1) \n",
        "    idx = j + i * (100)\n",
        "    finalArray[:,:,:,idx] = imgArray[a:b,c:d,:]\n",
        "\n",
        "## double check with above\n",
        "## apparently the .astype('uint8') is needed to display correctly now\n",
        "plt.figure(figsize=(10,10))\n",
        "for i in range(25): \n",
        "  plt.subplot(5,5,i+1)\n",
        "  plt.xticks([])\n",
        "  plt.yticks([])\n",
        "  plt.imshow(finalArray[:,:,:,i].astype('uint8'))"
      ],
      "execution_count": null,
      "outputs": []
    },
    {
      "cell_type": "code",
      "metadata": {
        "id": "Zd59K_HCtCOD"
      },
      "source": [
        "finalArray.shape"
      ],
      "execution_count": null,
      "outputs": []
    },
    {
      "cell_type": "code",
      "metadata": {
        "id": "1_F-_8RjtEPD"
      },
      "source": [
        "# Reading in CSV files\n",
        "baseUrl = \"https://raw.githubusercontent.com/cryptopunksnotdead/punks/master/\"\n",
        "for i in range(0,10000, 1000):\n",
        "  url = baseUrl+str(i)+\"-\"+str(i + 999)+\".csv\"\n",
        "  print(url)\n",
        "  if (i == 0):\n",
        "    dat = pd.read_csv(url)\n",
        "  else :\n",
        "    dat = pd.concat ([dat, pd.read_csv(url)], \n",
        "                     join = 'inner',\n",
        "                     ignore_index = True)"
      ],
      "execution_count": null,
      "outputs": []
    },
    {
      "cell_type": "code",
      "metadata": {
        "id": "Ff4N3UXgtIAO"
      },
      "source": [
        "dat.head()"
      ],
      "execution_count": null,
      "outputs": []
    },
    {
      "cell_type": "code",
      "metadata": {
        "id": "LOnqRWcetO7Z"
      },
      "source": [
        "# Converting array into string for analysis of accessories\n",
        "dat = dat.assign(earring= (dat[' accessories'].str.find(\"Earring\") > 0) * 1)\n",
        "dat.earring.value_counts()"
      ],
      "execution_count": null,
      "outputs": []
    },
    {
      "cell_type": "code",
      "metadata": {
        "id": "iHOEJ3B8tYR1"
      },
      "source": [
        "dat.shape"
      ],
      "execution_count": null,
      "outputs": []
    },
    {
      "cell_type": "markdown",
      "metadata": {
        "id": "jeYeFsWVthb6"
      },
      "source": [
        "# The Convolutional Network"
      ]
    },
    {
      "cell_type": "code",
      "metadata": {
        "id": "a_2WU_xptZhx"
      },
      "source": [
        "import tensorflow as tf\n",
        "from tensorflow.keras import datasets, layers, models\n",
        "import matplotlib.pyplot as plt"
      ],
      "execution_count": null,
      "outputs": []
    },
    {
      "cell_type": "markdown",
      "metadata": {
        "id": "rELIcAijtltK"
      },
      "source": [
        "## Prepping the Data"
      ]
    },
    {
      "cell_type": "code",
      "metadata": {
        "id": "PVcy7HoqtpJS"
      },
      "source": [
        "## Splitting the Data\n",
        "train_images = finalArray[:, :, :, 0:7000]\n",
        "train_labels = dat.earring[0:7000]\n",
        "test_images = finalArray[:, :, :, 7000:]\n",
        "test_labels = dat.earring[7000:]\n",
        "\n",
        "## Changing dims for model fit\n",
        "train_images = np.transpose(train_images, (3, 0, 1, 2))\n",
        "test_images = np.transpose(test_images, (3, 0, 1, 2))"
      ],
      "execution_count": null,
      "outputs": []
    },
    {
      "cell_type": "code",
      "metadata": {
        "id": "VWPlV4wItq11"
      },
      "source": [
        "#train_images.shape\n",
        "#test_images.shape\n",
        "#train_labels.shape\n",
        "test_labels.shape"
      ],
      "execution_count": null,
      "outputs": []
    },
    {
      "cell_type": "markdown",
      "metadata": {
        "id": "QqT79JQXttjO"
      },
      "source": [
        "## Building the Model"
      ]
    },
    {
      "cell_type": "markdown",
      "metadata": {
        "id": "Bx0B7JsStyQ8"
      },
      "source": [
        "### Creating the conv base"
      ]
    },
    {
      "cell_type": "code",
      "metadata": {
        "id": "fu33j4aSt6AY"
      },
      "source": [
        "model = models.Sequential()\n",
        "model.add(layers.Conv2D(32, (3, 3), activation='relu', input_shape=(24, 24, 3)))\n",
        "model.add(layers.MaxPooling2D((2, 2)))\n",
        "model.add(layers.Conv2D(64, (3, 3), activation='relu'))\n",
        "model.add(layers.MaxPooling2D((2, 2)))\n",
        "model.add(layers.Conv2D(64, (3, 3), activation='relu'))"
      ],
      "execution_count": null,
      "outputs": []
    },
    {
      "cell_type": "markdown",
      "metadata": {
        "id": "OWEDBc7yt9OW"
      },
      "source": [
        "### Adding dense layers on top"
      ]
    },
    {
      "cell_type": "code",
      "metadata": {
        "id": "zw_sEkBjuAgr"
      },
      "source": [
        "model.add(layers.Flatten())\n",
        "model.add(layers.Dense(64, activation='relu'))\n",
        "model.add(layers.Dense(10))\n",
        "\n",
        "# Summary\n",
        "model.summary()"
      ],
      "execution_count": null,
      "outputs": []
    },
    {
      "cell_type": "markdown",
      "metadata": {
        "id": "KlNBQmhTuD1y"
      },
      "source": [
        "### Compiling and training the model"
      ]
    },
    {
      "cell_type": "code",
      "metadata": {
        "id": "2ZAsrm-fuGCb"
      },
      "source": [
        "model.compile(optimizer='adam',\n",
        "              loss=tf.keras.losses.SparseCategoricalCrossentropy(from_logits=True),\n",
        "              metrics=['accuracy'])\n",
        "\n",
        "history = model.fit(train_images, train_labels, epochs=5, \n",
        "                    validation_data=(test_images, test_labels))"
      ],
      "execution_count": null,
      "outputs": []
    },
    {
      "cell_type": "markdown",
      "metadata": {
        "id": "QhcDMtHauMaw"
      },
      "source": [
        "### Evaluating the model"
      ]
    },
    {
      "cell_type": "code",
      "metadata": {
        "id": "KUMKwHeEuPTb"
      },
      "source": [
        "plt.plot(history.history['accuracy'], label='accuracy')\n",
        "plt.plot(history.history['val_accuracy'], label = 'val_accuracy')\n",
        "plt.xlabel('Epoch')\n",
        "plt.ylabel('Accuracy')\n",
        "plt.ylim([0.5, 1])\n",
        "plt.legend(loc='lower right')\n",
        "\n",
        "test_loss, test_acc = model.evaluate(test_images,  test_labels, verbose=2)"
      ],
      "execution_count": null,
      "outputs": []
    },
    {
      "cell_type": "markdown",
      "metadata": {
        "id": "6aHQaHWtuRul"
      },
      "source": [
        "**Test Accuracy**"
      ]
    },
    {
      "cell_type": "code",
      "metadata": {
        "id": "VbpzZOaMuUhL"
      },
      "source": [
        "print(test_acc*100)"
      ],
      "execution_count": null,
      "outputs": []
    }
  ]
}